{
  "nbformat": 4,
  "nbformat_minor": 0,
  "metadata": {
    "colab": {
      "name": "TLR_Calculation.ipynb",
      "provenance": [],
      "authorship_tag": "ABX9TyP91/liugp+qNGQARzAzjqt",
      "include_colab_link": true
    },
    "kernelspec": {
      "name": "python3",
      "display_name": "Python 3"
    }
  },
  "cells": [
    {
      "cell_type": "markdown",
      "metadata": {
        "id": "view-in-github",
        "colab_type": "text"
      },
      "source": [
        "<a href=\"https://colab.research.google.com/github/tommy-swimmer/solar/blob/main/TLR_script.ipynb\" target=\"_parent\"><img src=\"https://colab.research.google.com/assets/colab-badge.svg\" alt=\"Open In Colab\"/></a>"
      ]
    },
    {
      "cell_type": "markdown",
      "metadata": {
        "id": "jx-gACsAVv-p"
      },
      "source": [
        "# Install pysolar package using pip"
      ]
    },
    {
      "cell_type": "code",
      "metadata": {
        "colab": {
          "base_uri": "https://localhost:8080/"
        },
        "id": "2qnDq7xwTFGf",
        "outputId": "7bacd157-100f-4e24-a21b-3acc1c6e5247"
      },
      "source": [
        "pip install pysolar"
      ],
      "execution_count": 1,
      "outputs": [
        {
          "output_type": "stream",
          "text": [
            "Collecting pysolar\n",
            "\u001b[?25l  Downloading https://files.pythonhosted.org/packages/45/34/396a29f8bae7840e8c4e56f88dc752207b7443165e27025a69e69228e5bf/pysolar-0.9-py3-none-any.whl (46kB)\n",
            "\r\u001b[K     |███████                         | 10kB 17.9MB/s eta 0:00:01\r\u001b[K     |██████████████                  | 20kB 22.6MB/s eta 0:00:01\r\u001b[K     |█████████████████████           | 30kB 27.2MB/s eta 0:00:01\r\u001b[K     |████████████████████████████    | 40kB 25.9MB/s eta 0:00:01\r\u001b[K     |████████████████████████████████| 51kB 4.9MB/s \n",
            "\u001b[?25hInstalling collected packages: pysolar\n",
            "Successfully installed pysolar-0.9\n"
          ],
          "name": "stdout"
        }
      ]
    },
    {
      "cell_type": "markdown",
      "metadata": {
        "id": "C2cbpHKiV3-Y"
      },
      "source": [
        "Make necessary imported libraries"
      ]
    },
    {
      "cell_type": "code",
      "metadata": {
        "id": "io9m-I9aTRuz"
      },
      "source": [
        "import pysolar\r\n",
        "import datetime\r\n",
        "from datetime import timedelta"
      ],
      "execution_count": 3,
      "outputs": []
    },
    {
      "cell_type": "markdown",
      "metadata": {
        "id": "Uc_GW5DmV7gg"
      },
      "source": [
        "# **Start here** once running the above code. Enter date parameters"
      ]
    },
    {
      "cell_type": "code",
      "metadata": {
        "colab": {
          "base_uri": "https://localhost:8080/"
        },
        "id": "3vTUtcqdTZIz",
        "outputId": "2d8ca0bf-119d-4549-93f9-e804c7fe1e57"
      },
      "source": [
        "year = int(input('Enter year: '))\r\n",
        "month = int(input('Enter month: '))\r\n",
        "day = int(input('Enter day: '))\r\n",
        "hour = int(input('Enter hour: '))\r\n",
        "minute = int(input('Enter minute: '))"
      ],
      "execution_count": 17,
      "outputs": [
        {
          "output_type": "stream",
          "text": [
            "Enter year: 2021\n",
            "Enter month: 12\n",
            "Enter day: 21\n",
            "Enter hour: 12\n",
            "Enter minute: 00\n"
          ],
          "name": "stdout"
        }
      ]
    },
    {
      "cell_type": "markdown",
      "metadata": {
        "id": "BeL8m7_iWH7Z"
      },
      "source": [
        "Offset time for Durango: UTC-7"
      ]
    },
    {
      "cell_type": "code",
      "metadata": {
        "id": "KpGu_rosUMyy"
      },
      "source": [
        "offset = timedelta(hours=-7)\r\n",
        "name = 'TLR'"
      ],
      "execution_count": 6,
      "outputs": []
    },
    {
      "cell_type": "markdown",
      "metadata": {
        "id": "vZzAeLQGWM6h"
      },
      "source": [
        "Establish date variable with parameters given. "
      ]
    },
    {
      "cell_type": "code",
      "metadata": {
        "id": "oJ1lhtjyT0AC"
      },
      "source": [
        "date = datetime.datetime(year, month, day, hour, minute, 0, 0, tzinfo=datetime.timezone(offset, name))"
      ],
      "execution_count": 14,
      "outputs": []
    },
    {
      "cell_type": "markdown",
      "metadata": {
        "id": "MxITCzOfWSoY"
      },
      "source": [
        "Enter latitude and longitude of location of interest\r\n",
        "\r\n",
        "**TLR**\r\n",
        " - Latitude: 37\r\n",
        " - Longitude: -108"
      ]
    },
    {
      "cell_type": "code",
      "metadata": {
        "colab": {
          "base_uri": "https://localhost:8080/"
        },
        "id": "74t3n_ElUiPi",
        "outputId": "f3f560d9-322a-4d61-f356-eab905c9e10b"
      },
      "source": [
        "latitude = int(input('Enter latitude: '))\r\n",
        "longitude = int(input('Enter longitude: '))"
      ],
      "execution_count": 10,
      "outputs": [
        {
          "output_type": "stream",
          "text": [
            "Enter latitude: 37\n",
            "Enter longitude: -108\n"
          ],
          "name": "stdout"
        }
      ]
    },
    {
      "cell_type": "markdown",
      "metadata": {
        "id": "v0PzckYCWh1g"
      },
      "source": [
        "You will get a warning about leap seconds, this shouldn't matter.."
      ]
    },
    {
      "cell_type": "code",
      "metadata": {
        "colab": {
          "base_uri": "https://localhost:8080/"
        },
        "id": "tdZCPWi6Usa6",
        "outputId": "1c32fb2e-93c7-4bf2-c2de-b4db1d27e304"
      },
      "source": [
        "TLR_altitude = pysolar.solar.get_altitude(latitude, longitude, date)\r\n",
        "TLR_azimuth = pysolar.solar.get_azimuth(latitude, longitude, date)"
      ],
      "execution_count": 18,
      "outputs": [
        {
          "output_type": "stream",
          "text": [
            "/usr/local/lib/python3.6/dist-packages/pysolar/solartime.py:114: UserWarning: I don't know about leap seconds after 2020\n",
            "  (leap_seconds_base_year + len(leap_seconds_adjustments) - 1)\n"
          ],
          "name": "stderr"
        }
      ]
    },
    {
      "cell_type": "markdown",
      "metadata": {
        "id": "mbXAxyP5WnnQ"
      },
      "source": [
        "Print Results, record these on a separate piece of paper if desired."
      ]
    },
    {
      "cell_type": "code",
      "metadata": {
        "colab": {
          "base_uri": "https://localhost:8080/"
        },
        "id": "LwVKyFJKVdeS",
        "outputId": "991242d8-a7de-4412-8ac3-7b8984e0c556"
      },
      "source": [
        "print('Date:', date, name, 'timezone', sep=\" \")\r\n",
        "print('\\nAltitude:', TLR_altitude, 'degrees', sep=\" \")\r\n",
        "print('Azimuth:', TLR_azimuth, 'degrees', sep=\" \")"
      ],
      "execution_count": 20,
      "outputs": [
        {
          "output_type": "stream",
          "text": [
            "Date: 2021-12-21 12:10:00-07:00 TLR timezone\n",
            "\n",
            "Altitude: 29.58982955476057 degrees\n",
            "Azimuth: 179.93270994533856 degrees\n"
          ],
          "name": "stdout"
        }
      ]
    }
  ]
}
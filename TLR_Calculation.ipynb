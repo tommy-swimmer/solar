{
  "nbformat": 4,
  "nbformat_minor": 0,
  "metadata": {
    "colab": {
      "name": "TLR_Calculation.ipynb",
      "provenance": [],
      "include_colab_link": true
    },
    "kernelspec": {
      "name": "python3",
      "display_name": "Python 3"
    }
  },
  "cells": [
    {
      "cell_type": "markdown",
      "metadata": {
        "id": "view-in-github",
        "colab_type": "text"
      },
      "source": [
        "<a href=\"https://colab.research.google.com/github/tommy-swimmer/solar/blob/main/TLR_Calculation.ipynb\" target=\"_parent\"><img src=\"https://colab.research.google.com/assets/colab-badge.svg\" alt=\"Open In Colab\"/></a>"
      ]
    },
    {
      "cell_type": "markdown",
      "metadata": {
        "id": "jx-gACsAVv-p"
      },
      "source": [
        "# Install pysolar package using pip"
      ]
    },
    {
      "cell_type": "code",
      "metadata": {
        "colab": {
          "base_uri": "https://localhost:8080/"
        },
        "id": "2qnDq7xwTFGf",
        "outputId": "86149d6f-aad0-4d52-9b5e-6a32c9bfe8ae"
      },
      "source": [
        "pip install pysolar"
      ],
      "execution_count": 11,
      "outputs": [
        {
          "output_type": "stream",
          "text": [
            "Requirement already satisfied: pysolar in /usr/local/lib/python3.6/dist-packages (0.9)\n"
          ],
          "name": "stdout"
        }
      ]
    },
    {
      "cell_type": "markdown",
      "metadata": {
        "id": "C2cbpHKiV3-Y"
      },
      "source": [
        "Make necessary imported libraries"
      ]
    },
    {
      "cell_type": "code",
      "metadata": {
        "id": "io9m-I9aTRuz"
      },
      "source": [
        "import pysolar\r\n",
        "import datetime\r\n",
        "from datetime import timedelta"
      ],
      "execution_count": 12,
      "outputs": []
    },
    {
      "cell_type": "markdown",
      "metadata": {
        "id": "BeL8m7_iWH7Z"
      },
      "source": [
        "Offset time for Durango: UTC-7"
      ]
    },
    {
      "cell_type": "code",
      "metadata": {
        "id": "KpGu_rosUMyy"
      },
      "source": [
        "offset = timedelta(hours=-7)\r\n",
        "name = 'TLR'"
      ],
      "execution_count": 13,
      "outputs": []
    },
    {
      "cell_type": "markdown",
      "metadata": {
        "id": "Uc_GW5DmV7gg"
      },
      "source": [
        "# **Start here** once running the above code. Enter date parameters"
      ]
    },
    {
      "cell_type": "code",
      "metadata": {
        "colab": {
          "base_uri": "https://localhost:8080/"
        },
        "id": "3vTUtcqdTZIz",
        "outputId": "2c15f739-a342-4881-9aab-4919d5dfb0e1"
      },
      "source": [
        "year = int(input('Enter year: '))\r\n",
        "month = int(input('Enter month: '))\r\n",
        "day = int(input('Enter day: '))\r\n",
        "hour = int(input('Enter hour: '))\r\n",
        "minute = int(input('Enter minute: '))\r\n",
        "\r\n",
        "date = datetime.datetime(year, month, day, hour, minute, 0, 0, tzinfo=datetime.timezone(offset, name))"
      ],
      "execution_count": 14,
      "outputs": [
        {
          "output_type": "stream",
          "text": [
            "Enter year: 2021\n",
            "Enter month: 12\n",
            "Enter day: 21\n",
            "Enter hour: 12\n",
            "Enter minute: 10\n"
          ],
          "name": "stdout"
        }
      ]
    },
    {
      "cell_type": "markdown",
      "metadata": {
        "id": "MxITCzOfWSoY"
      },
      "source": [
        "Enter latitude and longitude of location of interest\r\n",
        "\r\n",
        "**TLR**\r\n",
        " - Latitude: 37.33\r\n",
        " - Longitude: -107.87"
      ]
    },
    {
      "cell_type": "code",
      "metadata": {
        "colab": {
          "base_uri": "https://localhost:8080/"
        },
        "id": "74t3n_ElUiPi",
        "outputId": "7abdc44c-3609-402e-a12e-21b986a322b4"
      },
      "source": [
        "latitude = float(input('Enter latitude: '))\r\n",
        "longitude = float(input('Enter longitude: '))"
      ],
      "execution_count": 15,
      "outputs": [
        {
          "output_type": "stream",
          "text": [
            "Enter latitude: 37.33\n",
            "Enter longitude: -107.87\n"
          ],
          "name": "stdout"
        }
      ]
    },
    {
      "cell_type": "markdown",
      "metadata": {
        "id": "v0PzckYCWh1g"
      },
      "source": [
        "You will get a warning about leap seconds, this shouldn't matter.."
      ]
    },
    {
      "cell_type": "code",
      "metadata": {
        "id": "tdZCPWi6Usa6",
        "outputId": "b5ee2021-b568-46d5-c64e-7d81436ebe28",
        "colab": {
          "base_uri": "https://localhost:8080/"
        }
      },
      "source": [
        "TLR_altitude = pysolar.solar.get_altitude(latitude, longitude, date)\r\n",
        "TLR_azimuth = pysolar.solar.get_azimuth(latitude, longitude, date)\r\n",
        "TLR_irradiance = pysolar.radiation.get_radiation_direct(date, TLR_altitude)"
      ],
      "execution_count": 16,
      "outputs": [
        {
          "output_type": "stream",
          "text": [
            "/usr/local/lib/python3.6/dist-packages/pysolar/solartime.py:114: UserWarning: I don't know about leap seconds after 2020\n",
            "  (leap_seconds_base_year + len(leap_seconds_adjustments) - 1)\n"
          ],
          "name": "stderr"
        }
      ]
    },
    {
      "cell_type": "markdown",
      "metadata": {
        "id": "4pAARRqwhf6w"
      },
      "source": [
        "Print Results"
      ]
    },
    {
      "cell_type": "code",
      "metadata": {
        "colab": {
          "base_uri": "https://localhost:8080/"
        },
        "id": "JFVaqkRthewg",
        "outputId": "ab863b91-3c8d-4e3e-ce21-1dac177f53af"
      },
      "source": [
        "print('Date:', date, name, 'timezone', sep=\" \")\r\n",
        "print('\\nAltitude:', TLR_altitude, 'degrees', sep=\" \")\r\n",
        "print('Azimuth:', TLR_azimuth, 'degrees', sep=\" \")\r\n",
        "print('Irradiance:', TLR_irradiance, 'W/m^2', sep=\" \")"
      ],
      "execution_count": 17,
      "outputs": [
        {
          "output_type": "stream",
          "text": [
            "Date: 2021-12-21 12:10:00-07:00 TLR timezone\n",
            "\n",
            "Altitude: 29.260202796192072 degrees\n",
            "Azimuth: 180.0696098567684 degrees\n",
            "Irradiance: 924.8293000905346 W/m^2\n"
          ],
          "name": "stdout"
        }
      ]
    }
  ]
}
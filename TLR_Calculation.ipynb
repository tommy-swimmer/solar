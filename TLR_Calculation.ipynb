{
  "nbformat": 4,
  "nbformat_minor": 0,
  "metadata": {
    "colab": {
      "name": "TLR_Calculation.ipynb",
      "provenance": [],
      "authorship_tag": "ABX9TyNKL8n23RSorN2RbtnnePMo",
      "include_colab_link": true
    },
    "kernelspec": {
      "name": "python3",
      "display_name": "Python 3"
    }
  },
  "cells": [
    {
      "cell_type": "markdown",
      "metadata": {
        "id": "view-in-github",
        "colab_type": "text"
      },
      "source": [
        "<a href=\"https://colab.research.google.com/github/tommy-swimmer/solar/blob/main/TLR_Calculation.ipynb\" target=\"_parent\"><img src=\"https://colab.research.google.com/assets/colab-badge.svg\" alt=\"Open In Colab\"/></a>"
      ]
    },
    {
      "cell_type": "markdown",
      "metadata": {
        "id": "jx-gACsAVv-p"
      },
      "source": [
        "# Install pysolar package using pip"
      ]
    },
    {
      "cell_type": "code",
      "metadata": {
        "colab": {
          "base_uri": "https://localhost:8080/"
        },
        "id": "2qnDq7xwTFGf",
        "outputId": "7bacd157-100f-4e24-a21b-3acc1c6e5247"
      },
      "source": [
        "pip install pysolar"
      ],
      "execution_count": 1,
      "outputs": [
        {
          "output_type": "stream",
          "text": [
            "Collecting pysolar\n",
            "\u001b[?25l  Downloading https://files.pythonhosted.org/packages/45/34/396a29f8bae7840e8c4e56f88dc752207b7443165e27025a69e69228e5bf/pysolar-0.9-py3-none-any.whl (46kB)\n",
            "\r\u001b[K     |███████                         | 10kB 17.9MB/s eta 0:00:01\r\u001b[K     |██████████████                  | 20kB 22.6MB/s eta 0:00:01\r\u001b[K     |█████████████████████           | 30kB 27.2MB/s eta 0:00:01\r\u001b[K     |████████████████████████████    | 40kB 25.9MB/s eta 0:00:01\r\u001b[K     |████████████████████████████████| 51kB 4.9MB/s \n",
            "\u001b[?25hInstalling collected packages: pysolar\n",
            "Successfully installed pysolar-0.9\n"
          ],
          "name": "stdout"
        }
      ]
    },
    {
      "cell_type": "markdown",
      "metadata": {
        "id": "C2cbpHKiV3-Y"
      },
      "source": [
        "Make necessary imported libraries"
      ]
    },
    {
      "cell_type": "code",
      "metadata": {
        "id": "io9m-I9aTRuz"
      },
      "source": [
        "import pysolar\r\n",
        "import datetime\r\n",
        "from datetime import timedelta"
      ],
      "execution_count": 3,
      "outputs": []
    },
    {
      "cell_type": "markdown",
      "metadata": {
        "id": "Uc_GW5DmV7gg"
      },
      "source": [
        "# **Start here** once running the above code. Enter date parameters"
      ]
    },
    {
      "cell_type": "code",
      "metadata": {
        "colab": {
          "base_uri": "https://localhost:8080/"
        },
        "id": "3vTUtcqdTZIz",
        "outputId": "21e2f30c-354b-418f-dc5a-ccaad3f1d6d4"
      },
      "source": [
        "year = int(input('Enter year: '))\r\n",
        "month = int(input('Enter month: '))\r\n",
        "day = int(input('Enter day: '))\r\n",
        "hour = int(input('Enter hour: '))\r\n",
        "minute = int(input('Enter minute: '))\r\n",
        "\r\n",
        "date = datetime.datetime(year, month, day, hour, minute, 0, 0, tzinfo=datetime.timezone(offset, name))"
      ],
      "execution_count": 56,
      "outputs": [
        {
          "output_type": "stream",
          "text": [
            "Enter year: 2021\n",
            "Enter month: 09\n",
            "Enter day: 22\n",
            "Enter hour: 12\n",
            "Enter minute: 04\n"
          ],
          "name": "stdout"
        }
      ]
    },
    {
      "cell_type": "markdown",
      "metadata": {
        "id": "BeL8m7_iWH7Z"
      },
      "source": [
        "Offset time for Durango: UTC-7"
      ]
    },
    {
      "cell_type": "code",
      "metadata": {
        "id": "KpGu_rosUMyy"
      },
      "source": [
        "offset = timedelta(hours=-7)\r\n",
        "name = 'TLR'"
      ],
      "execution_count": 29,
      "outputs": []
    },
    {
      "cell_type": "markdown",
      "metadata": {
        "id": "MxITCzOfWSoY"
      },
      "source": [
        "Enter latitude and longitude of location of interest\r\n",
        "\r\n",
        "**TLR**\r\n",
        " - Latitude: 37\r\n",
        " - Longitude: -108"
      ]
    },
    {
      "cell_type": "code",
      "metadata": {
        "colab": {
          "base_uri": "https://localhost:8080/"
        },
        "id": "74t3n_ElUiPi",
        "outputId": "50e73a90-8c73-4329-bbe0-3e8d018a4b65"
      },
      "source": [
        "latitude = int(input('Enter latitude: '))\r\n",
        "longitude = int(input('Enter longitude: '))"
      ],
      "execution_count": 30,
      "outputs": [
        {
          "output_type": "stream",
          "text": [
            "Enter latitude: 37\n",
            "Enter longitude: -108\n"
          ],
          "name": "stdout"
        }
      ]
    },
    {
      "cell_type": "markdown",
      "metadata": {
        "id": "v0PzckYCWh1g"
      },
      "source": [
        "You will get a warning about leap seconds, this shouldn't matter..\r\n",
        "Print Results, record these on a separate piece of paper if desired."
      ]
    },
    {
      "cell_type": "code",
      "metadata": {
        "colab": {
          "base_uri": "https://localhost:8080/"
        },
        "id": "tdZCPWi6Usa6",
        "outputId": "1885a3d1-2378-490e-a5f9-bad460b6459a"
      },
      "source": [
        "TLR_altitude = pysolar.solar.get_altitude(latitude, longitude, date)\r\n",
        "TLR_azimuth = pysolar.solar.get_azimuth(latitude, longitude, date)\r\n",
        "TLR_irradiance = pysolar.radiation.get_radiation_direct(date, TLR_altitude)"
      ],
      "execution_count": 60,
      "outputs": [
        {
          "output_type": "stream",
          "text": [
            "/usr/local/lib/python3.6/dist-packages/pysolar/solartime.py:114: UserWarning: I don't know about leap seconds after 2020\n",
            "  (leap_seconds_base_year + len(leap_seconds_adjustments) - 1)\n"
          ],
          "name": "stderr"
        }
      ]
    },
    {
      "cell_type": "markdown",
      "metadata": {
        "id": "4pAARRqwhf6w"
      },
      "source": [
        "Print Results"
      ]
    },
    {
      "cell_type": "code",
      "metadata": {
        "colab": {
          "base_uri": "https://localhost:8080/"
        },
        "id": "JFVaqkRthewg",
        "outputId": "1499f462-de81-4a44-ede5-285ae613c22e"
      },
      "source": [
        "print('Date:', date, name, 'timezone', sep=\" \")\r\n",
        "print('\\nAltitude:', TLR_altitude, 'degrees', sep=\" \")\r\n",
        "print('Azimuth:', TLR_azimuth, 'degrees', sep=\" \")\r\n",
        "print('Irradiance:', TLR_irradiance, 'W/m^2', sep=\" \")"
      ],
      "execution_count": 61,
      "outputs": [
        {
          "output_type": "stream",
          "text": [
            "Date: 2021-09-22 12:04:00-07:00 TLR timezone\n",
            "\n",
            "Altitude: 53.015385463504465 degrees\n",
            "Azimuth: 179.80302627596933 degrees\n",
            "Irradiance: 910.6970020770289 W/m^2\n"
          ],
          "name": "stdout"
        }
      ]
    }
  ]
}